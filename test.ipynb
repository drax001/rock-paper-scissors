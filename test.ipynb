{
 "cells": [
  {
   "cell_type": "code",
   "execution_count": null,
   "metadata": {},
   "outputs": [
    {
     "name": "stdout",
     "output_type": "stream",
     "text": [
      "Creating new Ultralytics Settings v0.0.6 file  \n",
      "View Ultralytics Settings with 'yolo settings' or at 'C:\\Users\\imehe\\AppData\\Roaming\\Ultralytics\\settings.json'\n",
      "Update Settings with 'yolo settings key=value', i.e. 'yolo settings runs_dir=path/to/dir'. For help see https://docs.ultralytics.com/quickstart/#ultralytics-settings.\n",
      "\n",
      "0: 608x640 (no detections), 423.6ms\n",
      "Speed: 14.1ms preprocess, 423.6ms inference, 7.6ms postprocess per image at shape (1, 3, 608, 640)\n"
     ]
    }
   ],
   "source": [
    "import cv2\n",
    "from ultralytics import YOLO\n",
    "\n",
    "# Load the trained model\n",
    "model = YOLO(\"yolov8-rps.pt\")\n",
    "\n",
    "# Path to your unseen image\n",
    "img_path = \"test/paper.png\"  # change to your image path\n",
    "\n",
    "# Load and run inference\n",
    "img = cv2.imread(img_path)\n",
    "results = model(img)\n",
    "\n",
    "# Display results\n",
    "results[0].show()  # This opens a new window (only works on GUI systems)\n"
   ]
  },
  {
   "cell_type": "code",
   "execution_count": 6,
   "metadata": {},
   "outputs": [
    {
     "name": "stdout",
     "output_type": "stream",
     "text": [
      "\n",
      "0: 640x608 1 Scissors, 408.1ms\n",
      "Speed: 8.2ms preprocess, 408.1ms inference, 1.6ms postprocess per image at shape (1, 3, 640, 608)\n"
     ]
    }
   ],
   "source": [
    "# Path to your unseen image\n",
    "img_path = \"test/scissor.png\"  # change to your image path\n",
    "\n",
    "# Load and run inference\n",
    "img = cv2.imread(img_path)\n",
    "results = model(img)\n",
    "\n",
    "# Display results\n",
    "results[0].show()"
   ]
  }
 ],
 "metadata": {
  "kernelspec": {
   "display_name": "base",
   "language": "python",
   "name": "python3"
  },
  "language_info": {
   "codemirror_mode": {
    "name": "ipython",
    "version": 3
   },
   "file_extension": ".py",
   "mimetype": "text/x-python",
   "name": "python",
   "nbconvert_exporter": "python",
   "pygments_lexer": "ipython3",
   "version": "3.12.5"
  }
 },
 "nbformat": 4,
 "nbformat_minor": 2
}
